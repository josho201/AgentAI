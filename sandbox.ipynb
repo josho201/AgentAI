{
 "cells": [
  {
   "cell_type": "code",
   "execution_count": null,
   "id": "d16a17c0",
   "metadata": {},
   "outputs": [
    {
     "name": "stdout",
     "output_type": "stream",
     "text": [
      "# Entries in '/home/yahir-luna/Documents/AgentAI':\n",
      "| filename | type | absolute path |\n",
      "|----------|------|---------------|\n",
      "| sandbox.ipynb | file|/home/yahir-luna/Documents/AgentAI/sandbox.ipynb|\n",
      "| README.md | file|/home/yahir-luna/Documents/AgentAI/README.md|\n",
      "| utils | dir|/home/yahir-luna/Documents/AgentAI/utils|\n",
      "| workspace | dir|/home/yahir-luna/Documents/AgentAI/workspace|\n",
      "| .git | dir|/home/yahir-luna/Documents/AgentAI/.git|\n",
      "| main.py | file|/home/yahir-luna/Documents/AgentAI/main.py|\n",
      "| .gitignore | file|/home/yahir-luna/Documents/AgentAI/.gitignore|\n",
      "| Qwen-Agent | dir|/home/yahir-luna/Documents/AgentAI/Qwen-Agent|\n",
      "| examples | dir|/home/yahir-luna/Documents/AgentAI/examples|\n",
      "| .env | file|/home/yahir-luna/Documents/AgentAI/.env|\n"
     ]
    }
   ],
   "source": [
    "from pathlib import Path\n",
    "\n",
    "# Create a Path object for the directory\n",
    "\n",
    "\n",
    "\n",
    "\n",
    "\n",
    "\n",
    "\n"
   ]
  },
  {
   "cell_type": "code",
   "execution_count": null,
   "id": "878e9f24",
   "metadata": {},
   "outputs": [],
   "source": []
  },
  {
   "cell_type": "code",
   "execution_count": null,
   "id": "d8eb80c8",
   "metadata": {},
   "outputs": [
    {
     "name": "stdout",
     "output_type": "stream",
     "text": [
      "Moved '/home/yahir-luna/Documents/AgentAI/README.md' to '/home/yahir-luna/Documents/AgentAI/carpeta_nueva/README.md'\n"
     ]
    }
   ],
   "source": [
    "\n",
    "\n"
   ]
  },
  {
   "cell_type": "code",
   "execution_count": 20,
   "id": "5d56afd7",
   "metadata": {},
   "outputs": [
    {
     "data": {
      "text/plain": [
       "PosixPath('/home/yahir-luna/Documents/AgentAI/README.md')"
      ]
     },
     "execution_count": 20,
     "metadata": {},
     "output_type": "execute_result"
    }
   ],
   "source": [
    "hasta.rename(desde)"
   ]
  },
  {
   "cell_type": "code",
   "execution_count": 22,
   "id": "a0ba1923",
   "metadata": {},
   "outputs": [],
   "source": [
    "header = f\"# Entries in '{directory_path.resolve()}':\\n| filename | type | absolute path |\\n|----------|------|---------------|\""
   ]
  },
  {
   "cell_type": "code",
   "execution_count": 24,
   "id": "67ea2378",
   "metadata": {},
   "outputs": [
    {
     "name": "stdout",
     "output_type": "stream",
     "text": [
      "# Entries in '/home/yahir-luna/Documents/AgentAI':\n",
      "| filename | type | absolute path |\n",
      "|----------|------|---------------|\n"
     ]
    }
   ],
   "source": [
    "print(header)"
   ]
  },
  {
   "cell_type": "code",
   "execution_count": null,
   "id": "31b2d2dc",
   "metadata": {},
   "outputs": [],
   "source": []
  }
 ],
 "metadata": {
  "kernelspec": {
   "display_name": "agentq",
   "language": "python",
   "name": "python3"
  },
  "language_info": {
   "codemirror_mode": {
    "name": "ipython",
    "version": 3
   },
   "file_extension": ".py",
   "mimetype": "text/x-python",
   "name": "python",
   "nbconvert_exporter": "python",
   "pygments_lexer": "ipython3",
   "version": "3.10.18"
  }
 },
 "nbformat": 4,
 "nbformat_minor": 5
}
